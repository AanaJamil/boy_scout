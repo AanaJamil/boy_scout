{
 "cells": [
  {
   "cell_type": "code",
   "execution_count": 26,
   "metadata": {},
   "outputs": [],
   "source": [
    "class Battery():\n",
    "    def __init__(self,price,size):\n",
    "        \n",
    "        self.price = price\n",
    "        self.size = size\n",
    "        \n",
    "    def getBattery(self):\n",
    "        print(f\"the size of the battery is {self.size}\")\n",
    "        \n",
    "    def setBattery(self,newsize):\n",
    "        self.size = newsize"
   ]
  },
  {
   "cell_type": "code",
   "execution_count": 27,
   "metadata": {},
   "outputs": [],
   "source": [
    "class car():\n",
    "    def __init__(self,make,model,year):\n",
    "        self.make = make\n",
    "        self.model = model\n",
    "        self.year = year\n",
    "        self.battery = Battery(10000,25)\n",
    "        \n",
    "        def desccar(self):\n",
    "            print(f\"description: {self.make} & {self.model} & {self.year}\")\n",
    "        \n",
    "        "
   ]
  },
  {
   "cell_type": "code",
   "execution_count": 42,
   "metadata": {},
   "outputs": [],
   "source": [
    "class Electriccar(car):\n",
    "    pass "
   ]
  },
  {
   "cell_type": "code",
   "execution_count": 34,
   "metadata": {},
   "outputs": [],
   "source": [
    "ecar1 = Electriccar(\"civic\",\"mycar\",2019) "
   ]
  },
  {
   "cell_type": "code",
   "execution_count": 36,
   "metadata": {},
   "outputs": [],
   "source": [
    "ecar1.battery.setBattery(1000)"
   ]
  },
  {
   "cell_type": "code",
   "execution_count": 37,
   "metadata": {},
   "outputs": [
    {
     "name": "stdout",
     "output_type": "stream",
     "text": [
      "the size of the battery is 1000\n"
     ]
    }
   ],
   "source": [
    "ecar1.battery.getBattery()"
   ]
  },
  {
   "cell_type": "code",
   "execution_count": 44,
   "metadata": {},
   "outputs": [
    {
     "data": {
      "text/plain": [
       "'mycar'"
      ]
     },
     "execution_count": 44,
     "metadata": {},
     "output_type": "execute_result"
    }
   ],
   "source": [
    "ecar1.model"
   ]
  },
  {
   "cell_type": "code",
   "execution_count": 2,
   "metadata": {},
   "outputs": [
    {
     "name": "stdout",
     "output_type": "stream",
     "text": [
      "Enter your name: Sana\n",
      "Hello Sana\n"
     ]
    }
   ],
   "source": [
    "name = input(\"Enter your name: \")\n",
    "print('Hello', name)"
   ]
  },
  {
   "cell_type": "code",
   "execution_count": 8,
   "metadata": {},
   "outputs": [
    {
     "name": "stdout",
     "output_type": "stream",
     "text": [
      "Enter Hours: 45\n",
      "Enter Rate: 10.5\n",
      "498.75\n"
     ]
    }
   ],
   "source": [
    "hrs = input(\"Enter Hours: \")\n",
    "h = float(hrs)\n",
    "rate = input(\"Enter Rate: \")\n",
    "r = float(rate)\n",
    "if h <= 40:\n",
    "    pay = h * r\n",
    "elif h > 40:\n",
    "    pay = 40 * r + (h - 40) * r * 1.5\n",
    "    print(pay)"
   ]
  },
  {
   "cell_type": "code",
   "execution_count": 10,
   "metadata": {},
   "outputs": [
    {
     "name": "stdout",
     "output_type": "stream",
     "text": [
      "Enter Hours: 45\n",
      "Enter Rate: 10.5\n",
      "498.75\n"
     ]
    }
   ],
   "source": [
    "hrs = input(\"Enter Hours: \")\n",
    "h = float(hrs)\n",
    "rate = input(\"Enter Rate: \")\n",
    "r = float(rate)\n",
    "if h <= 40:\n",
    "    pay = (h * r)\n",
    "elif h > 40:\n",
    "    pay = 40 * r + (h - 40) * r * 1.5\n",
    "    print(pay)\n"
   ]
  },
  {
   "cell_type": "code",
   "execution_count": 3,
   "metadata": {},
   "outputs": [
    {
     "name": "stdout",
     "output_type": "stream",
     "text": [
      "Enter Hours: 45\n",
      "Enter Rate: 10.5\n",
      "498.75\n"
     ]
    }
   ],
   "source": [
    "def Computepay(h,r):\n",
    "    if h <= 40:\n",
    "        pay = h * r\n",
    "    elif h > 40:\n",
    "        pay = 40 * r + (h - 40) * r * 1.5\n",
    "        return pay\n",
    "    \n",
    "hrs = input(\"Enter Hours: \")\n",
    "h = float(hrs)\n",
    "rate = input(\"Enter Rate: \")\n",
    "r = float(rate)\n",
    "p = Computepay(h,r)\n",
    "print(p)"
   ]
  },
  {
   "cell_type": "code",
   "execution_count": 4,
   "metadata": {},
   "outputs": [
    {
     "name": "stdout",
     "output_type": "stream",
     "text": [
      "Enter Hours: 45\n",
      "Enter Rate: 10.5\n",
      "498.75\n"
     ]
    }
   ],
   "source": [
    "def Computepay(h,r):\n",
    "    if h <= 40:\n",
    "        pay = h * r\n",
    "    elif h > 40:\n",
    "        pay = 40 * r + (h - 40) * r * 1.5\n",
    "        return pay\n",
    "    \n",
    "hrs = input(\"Enter Hours: \")\n",
    "h = float(hrs)\n",
    "rate = input(\"Enter Rate: \")\n",
    "r = float(rate)\n",
    "p = Computepay(h,r)\n",
    "print(p)"
   ]
  },
  {
   "cell_type": "code",
   "execution_count": 1,
   "metadata": {},
   "outputs": [
    {
     "name": "stdout",
     "output_type": "stream",
     "text": [
      "Enter a Number between 0.0 and 1.0: 0.85\n",
      "B\n"
     ]
    }
   ],
   "source": [
    "try:\n",
    "    inp = input(\"Enter a Number between 0.0 and 1.0: \")\n",
    "    score = float(inp)\n",
    "    if (score >= 1.0):\n",
    "        print(\"You didn't follow the instructions\")\n",
    "        exit()\n",
    "    elif (score >= 0.9):\n",
    "        print(\"A\")\n",
    "    elif (score >= 0.8):\n",
    "        print(\"B\")\n",
    "    elif (score >= 0.7):\n",
    "        print(\"C\")\n",
    "    elif (score >= 0.6):\n",
    "        print(\"D\")\n",
    "    else:\n",
    "        print(\"F\")\n",
    "except:\n",
    "    print(\"Please enter numerical numbers\")\n",
    "    exite()\n",
    "        "
   ]
  },
  {
   "cell_type": "code",
   "execution_count": 13,
   "metadata": {},
   "outputs": [],
   "source": [
    "with open(\"abc.txt\", \"w\") as f:\n",
    "    f.write(\"now a days life become so busy. \")\n",
    "    f.write(\"I have spend most of the time in learning programming. \")\n",
    "    f.write(\"sometime it looks difficult and sometime feels nothing is impossible.\")\n",
    "    f.write(\"I wish to become a great programmer.\")\n",
    "    f.write(\"but first I have to become a good learner. \")\n",
    "    f.write(\"so just keep trying and trying.INN SHA ALLAH the goal will be achieved.\")\n"
   ]
  },
  {
   "cell_type": "code",
   "execution_count": null,
   "metadata": {},
   "outputs": [],
   "source": []
  }
 ],
 "metadata": {
  "kernelspec": {
   "display_name": "Python 3",
   "language": "python",
   "name": "python3"
  },
  "language_info": {
   "codemirror_mode": {
    "name": "ipython",
    "version": 3
   },
   "file_extension": ".py",
   "mimetype": "text/x-python",
   "name": "python",
   "nbconvert_exporter": "python",
   "pygments_lexer": "ipython3",
   "version": "3.7.3"
  }
 },
 "nbformat": 4,
 "nbformat_minor": 2
}
